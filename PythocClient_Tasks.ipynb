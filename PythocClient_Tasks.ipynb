{
 "cells": [
  {
   "cell_type": "code",
   "execution_count": 1,
   "id": "0ddd15d0-fed4-434a-b3e4-f4499f2a15a4",
   "metadata": {},
   "outputs": [
    {
     "name": "stdout",
     "output_type": "stream",
     "text": [
      "Requirement already satisfied: mysql-connector-python in /home/subodh29/.pyenv/versions/3.12.1/lib/python3.12/site-packages (8.0.28)\n",
      "Requirement already satisfied: protobuf>=3.0.0 in /home/subodh29/.pyenv/versions/3.12.1/lib/python3.12/site-packages (from mysql-connector-python) (4.25.3)\n",
      "\n",
      "\u001b[1m[\u001b[0m\u001b[34;49mnotice\u001b[0m\u001b[1;39;49m]\u001b[0m\u001b[39;49m A new release of pip is available: \u001b[0m\u001b[31;49m23.2.1\u001b[0m\u001b[39;49m -> \u001b[0m\u001b[32;49m24.0\u001b[0m\n",
      "\u001b[1m[\u001b[0m\u001b[34;49mnotice\u001b[0m\u001b[1;39;49m]\u001b[0m\u001b[39;49m To update, run: \u001b[0m\u001b[32;49mpip install --upgrade pip\u001b[0m\n"
     ]
    }
   ],
   "source": [
    "!pip install mysql-connector-python"
   ]
  },
  {
   "cell_type": "code",
   "execution_count": 2,
   "id": "68c82f57-efbd-432a-a724-c9141f5b0394",
   "metadata": {},
   "outputs": [],
   "source": [
    "import mysql.connector as connector"
   ]
  },
  {
   "cell_type": "code",
   "execution_count": 3,
   "id": "47fbdff9-88eb-41d5-a075-0495bcc6a2d7",
   "metadata": {},
   "outputs": [],
   "source": [
    "# Task 1\n",
    "connection = connector.connect(user=\"testuser\", password=\"Testuser1234\", db=\"LittleLemonDB\", host=\"172.22.16.1\")"
   ]
  },
  {
   "cell_type": "code",
   "execution_count": 4,
   "id": "b453c075-fa44-40ae-a801-65bc31e01384",
   "metadata": {},
   "outputs": [
    {
     "name": "stdout",
     "output_type": "stream",
     "text": [
      "('bookings',)\n",
      "('cuisines',)\n",
      "('customers',)\n",
      "('menus',)\n",
      "('menutype',)\n",
      "('orderdeliverystatus',)\n",
      "('orders',)\n",
      "('staff',)\n"
     ]
    }
   ],
   "source": [
    "#Task 2\n",
    "cursor = connection.cursor()\n",
    "\n",
    "show_tables_query = \"SHOW TABLES\"\n",
    "cursor.execute(show_tables_query)\n",
    "\n",
    "for table in cursor:\n",
    "    print(table)"
   ]
  },
  {
   "cell_type": "code",
   "execution_count": 5,
   "id": "84d45973-edca-473a-a90d-811e31859774",
   "metadata": {},
   "outputs": [
    {
     "name": "stdout",
     "output_type": "stream",
     "text": [
      "('CustomerName', 'CustomerContactNumber', 'CustomerEmail', 'OrderID', 'TotalCost')\n",
      "('Alice Smith', '123-456-3333', 'alice@example.com', 6, Decimal('300.00'))\n",
      "('Jane Wiliams', '123-456-2222', 'jane.doe@example.com', 5, Decimal('500.00'))\n",
      "('John Doe', '123-456-1111', 'john.doe@example.com', 2, Decimal('150.00'))\n"
     ]
    }
   ],
   "source": [
    "#Task 3\n",
    "sql_stmnt = \"\"\"\n",
    "SELECT c.CustomerName, c.CustomerContactNumber, c.CustomerEmail, o. OrderID, o.TotalCost\n",
    "FROM Customers c\n",
    "JOIN Bookings b\n",
    "ON c.CustomerID = b.CustomerID\n",
    "JOIN Orders o\n",
    "ON b.BookingID = o.BookingID\n",
    "WHERE o.TotalCost > 60\n",
    "ORDER BY c.CustomerName;\n",
    "\"\"\"\n",
    "\n",
    "cursor.execute(sql_stmnt)\n",
    "\n",
    "dataset = cursor.fetchall()\n",
    "\n",
    "columns = cursor.column_names\n",
    "\n",
    "print(columns)\n",
    "for row in dataset:\n",
    "    print(row)"
   ]
  },
  {
   "cell_type": "code",
   "execution_count": 6,
   "id": "51e58423-0a90-4b0e-a012-3c089dae0cc8",
   "metadata": {},
   "outputs": [],
   "source": [
    "connection.close()"
   ]
  },
  {
   "cell_type": "code",
   "execution_count": null,
   "id": "92c7d49f-7a73-4671-bb7f-308ab802eaf9",
   "metadata": {},
   "outputs": [],
   "source": []
  }
 ],
 "metadata": {
  "kernelspec": {
   "display_name": "Python 3 (ipykernel)",
   "language": "python",
   "name": "python3"
  },
  "language_info": {
   "codemirror_mode": {
    "name": "ipython",
    "version": 3
   },
   "file_extension": ".py",
   "mimetype": "text/x-python",
   "name": "python",
   "nbconvert_exporter": "python",
   "pygments_lexer": "ipython3",
   "version": "3.12.1"
  }
 },
 "nbformat": 4,
 "nbformat_minor": 5
}
